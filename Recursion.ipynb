{
 "cells": [
  {
   "cell_type": "code",
   "execution_count": 3,
   "metadata": {},
   "outputs": [],
   "source": [
    "#Factorial function\n",
    "def factorial(n):\n",
    "    if n == 1:\n",
    "        return 1\n",
    "    return n * factorial(n-1)"
   ]
  },
  {
   "cell_type": "code",
   "execution_count": 5,
   "metadata": {},
   "outputs": [
    {
     "data": {
      "text/plain": [
       "1"
      ]
     },
     "execution_count": 5,
     "metadata": {},
     "output_type": "execute_result"
    }
   ],
   "source": [
    "factorial(1)"
   ]
  },
  {
   "cell_type": "code",
   "execution_count": 11,
   "metadata": {},
   "outputs": [],
   "source": [
    "#Sum all items from an array\n",
    "def sumArray(array):\n",
    "    if array is None:\n",
    "        return\n",
    "    if len(array) == 1:\n",
    "        return array[0]\n",
    "    return array[0] + sumArray(array[1:])"
   ]
  },
  {
   "cell_type": "code",
   "execution_count": 13,
   "metadata": {},
   "outputs": [
    {
     "data": {
      "text/plain": [
       "11"
      ]
     },
     "execution_count": 13,
     "metadata": {},
     "output_type": "execute_result"
    }
   ],
   "source": [
    "sumArray([1,2,3,5])"
   ]
  },
  {
   "cell_type": "code",
   "execution_count": 14,
   "metadata": {},
   "outputs": [],
   "source": [
    "#find number of items in an array\n",
    "def findNumberItems(array):\n",
    "    if array is None:\n",
    "        return\n",
    "    if len(array) == 1:\n",
    "        return 1\n",
    "    return 1 + findNumberItems(array[1:])"
   ]
  },
  {
   "cell_type": "code",
   "execution_count": 16,
   "metadata": {},
   "outputs": [
    {
     "data": {
      "text/plain": [
       "3"
      ]
     },
     "execution_count": 16,
     "metadata": {},
     "output_type": "execute_result"
    }
   ],
   "source": [
    "findNumberItems([1,2,3])"
   ]
  },
  {
   "cell_type": "code",
   "execution_count": 20,
   "metadata": {},
   "outputs": [],
   "source": [
    "#Find max number in an array\n",
    "def findMaxNumber(array):\n",
    "    if array is None:\n",
    "        return\n",
    "    if len(array) == 1:\n",
    "        return array[0]\n",
    "    if len(array) ==2:\n",
    "        if array[0] > array[1]:\n",
    "            return array[0]\n",
    "        else:\n",
    "            return array[1]\n",
    "    return findMaxNumber(array[1:])    "
   ]
  },
  {
   "cell_type": "code",
   "execution_count": 21,
   "metadata": {},
   "outputs": [
    {
     "data": {
      "text/plain": [
       "10"
      ]
     },
     "execution_count": 21,
     "metadata": {},
     "output_type": "execute_result"
    }
   ],
   "source": [
    "findMaxNumber([1,2,10,7])"
   ]
  },
  {
   "cell_type": "code",
   "execution_count": 24,
   "metadata": {},
   "outputs": [],
   "source": [
    "#Sort an array using quicksort algorithm\n",
    "def quickSort(array):\n",
    "    if array is None:\n",
    "        return\n",
    "    if len(array) < 2:\n",
    "        return array\n",
    "    pivot = array[0]\n",
    "    less = [i for i in array[1:] if i<= pivot]\n",
    "    more = [i for i in array[1:] if i> pivot]\n",
    "    return quickSort(less) + [pivot] + quickSort(more)"
   ]
  },
  {
   "cell_type": "code",
   "execution_count": 25,
   "metadata": {},
   "outputs": [
    {
     "data": {
      "text/plain": [
       "[1, 3, 4, 5, 7, 8, 10, 20, 30]"
      ]
     },
     "execution_count": 25,
     "metadata": {},
     "output_type": "execute_result"
    }
   ],
   "source": [
    "quickSort([1,20,10,3,4,5,30,7,8])"
   ]
  }
 ],
 "metadata": {
  "kernelspec": {
   "display_name": "Python 3",
   "language": "python",
   "name": "python3"
  },
  "language_info": {
   "codemirror_mode": {
    "name": "ipython",
    "version": 3
   },
   "file_extension": ".py",
   "mimetype": "text/x-python",
   "name": "python",
   "nbconvert_exporter": "python",
   "pygments_lexer": "ipython3",
   "version": "3.6.8"
  }
 },
 "nbformat": 4,
 "nbformat_minor": 2
}
